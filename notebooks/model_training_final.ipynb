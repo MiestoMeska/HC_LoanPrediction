{
 "cells": [
  {
   "cell_type": "markdown",
   "id": "d3de8233-ed1d-4353-a2e5-5b4706ec24fc",
   "metadata": {},
   "source": [
    "# Loan Default Prediction Model"
   ]
  },
  {
   "cell_type": "markdown",
   "id": "26ba584f-926e-4aa0-ba85-d61e2ff75101",
   "metadata": {},
   "source": [
    "In this part of the project, we train the model using a selected subset of features, adjusting weights and hyperparameters to optimize performance."
   ]
  },
  {
   "cell_type": "markdown",
   "id": "d932d84b-0e95-4e63-be5b-530721e5e28c",
   "metadata": {},
   "source": [
    "### Importing needed Libraries"
   ]
  },
  {
   "cell_type": "code",
   "execution_count": 1,
   "id": "1bfed994-274a-458e-811a-86b94dd349e9",
   "metadata": {},
   "outputs": [],
   "source": [
    "import pandas as pd\n",
    "import numpy as np\n",
    "from sklearn.model_selection import train_test_split, GridSearchCV, StratifiedKFold\n",
    "from sklearn.pipeline import Pipeline\n",
    "from sklearn.compose import ColumnTransformer\n",
    "from sklearn.preprocessing import RobustScaler, OneHotEncoder\n",
    "from lightgbm import LGBMClassifier\n",
    "from sklearn.metrics import accuracy_score, precision_score,recall_score, f1_score, roc_auc_score, auc, confusion_matrix, roc_curve, RocCurveDisplay\n",
    "import matplotlib.pyplot as plt\n",
    "import seaborn as sns\n",
    "from joblib import dump"
   ]
  },
  {
   "cell_type": "markdown",
   "id": "893f0bf4-38d4-4fc0-bc6a-7c0db142c564",
   "metadata": {},
   "source": [
    "### Preparing the Data"
   ]
  },
  {
   "cell_type": "code",
   "execution_count": 2,
   "id": "bc426b51-7a08-4338-8a23-ce06f9133163",
   "metadata": {},
   "outputs": [],
   "source": [
    "app_train = pd.read_csv('../data/app_train_extended.csv')\n",
    "selected_features = pd.read_csv('../data/selected_features.csv')\n",
    "selected_features = selected_features['Selected_Features'].tolist()"
   ]
  },
  {
   "cell_type": "code",
   "execution_count": 3,
   "id": "8972be96-01fa-426e-9a06-5c78320836ea",
   "metadata": {},
   "outputs": [],
   "source": [
    "X = app_train[selected_features]\n",
    "y = app_train['TARGET']\n",
    "scale_pos_weight = (y == 0).sum() / (y == 1).sum()"
   ]
  },
  {
   "cell_type": "code",
   "execution_count": 4,
   "id": "a9390133-cd1b-4830-a903-7a0e58799665",
   "metadata": {},
   "outputs": [],
   "source": [
    "numeric_features = X.select_dtypes(include=['int64', 'float64']).columns.tolist()\n",
    "categorical_features = X.select_dtypes(include=['object', 'category']).columns.tolist()\n",
    "\n",
    "X_train, X_temp, y_train, y_temp = train_test_split(X, y, test_size=0.3, random_state=42, stratify=y)\n",
    "X_val, X_test, y_val, y_test = train_test_split(X_temp, y_temp, test_size=0.5, random_state=42, stratify=y_temp)\n",
    "\n",
    "X_train = X_train.replace([np.inf, -np.inf], np.nan)\n",
    "X_val = X_val.replace([np.inf, -np.inf], np.nan)\n",
    "X_test = X_test.replace([np.inf, -np.inf], np.nan)\n",
    "\n",
    "X_train_sub, _, y_train_sub, _ = train_test_split(X_train, y_train, test_size=0.80, random_state=42, stratify=y_train)\n"
   ]
  },
  {
   "cell_type": "code",
   "execution_count": 5,
   "id": "ac7225ff-0947-43a2-bd31-3b0ab0bc1ac6",
   "metadata": {},
   "outputs": [],
   "source": [
    "\n",
    "numeric_transformer = Pipeline([\n",
    "    ('scaler', RobustScaler())\n",
    "])\n",
    "\n",
    "categorical_transformer = Pipeline([\n",
    "    ('onehot', OneHotEncoder(handle_unknown='ignore'))\n",
    "])\n",
    "\n",
    "preprocessor = ColumnTransformer(\n",
    "    transformers=[\n",
    "        ('num', numeric_transformer, numeric_features),\n",
    "        ('cat', categorical_transformer, categorical_features)\n",
    "    ]\n",
    ")\n",
    "\n",
    "pipeline = Pipeline([\n",
    "    ('preprocessor', preprocessor),\n",
    "    ('classifier', LGBMClassifier(scale_pos_weight=scale_pos_weight))\n",
    "])\n"
   ]
  },
  {
   "cell_type": "markdown",
   "id": "f7c249ef-2edf-4214-87b6-e71700d64e92",
   "metadata": {},
   "source": [
    "### Best Parameters Search"
   ]
  },
  {
   "cell_type": "code",
   "execution_count": 6,
   "id": "eb077f12-e87d-4f69-9bc2-b3651ecd4aee",
   "metadata": {},
   "outputs": [
    {
     "name": "stdout",
     "output_type": "stream",
     "text": [
      "Fitting 3 folds for each of 36 candidates, totalling 108 fits\n",
      "[LightGBM] [Info] Number of positive: 3475, number of negative: 39576\n",
      "[LightGBM] [Info] Auto-choosing col-wise multi-threading, the overhead of testing was 0.017297 seconds.\n",
      "You can set `force_col_wise=true` to remove the overhead.\n",
      "[LightGBM] [Info] Total Bins 20516\n",
      "[LightGBM] [Info] Number of data points in the train set: 43051, number of used features: 224\n",
      "[LightGBM] [Info] [binary:BoostFromScore]: pavg=0.080718 -> initscore=-2.432628\n",
      "[LightGBM] [Info] Start training from score -2.432628\n",
      "\n",
      "Best parameters found: {'classifier__learning_rate': 0.01, 'classifier__max_depth': 14, 'classifier__n_estimators': 300, 'classifier__num_leaves': 60}\n",
      "Best ROC-AUC score from cross-validation: 0.7416636518887874\n"
     ]
    }
   ],
   "source": [
    "\n",
    "param_grid = {\n",
    "    'classifier__max_depth': [6, 10, 14],\n",
    "    'classifier__n_estimators': [100, 200, 300],\n",
    "    'classifier__num_leaves': [60, 80],\n",
    "    'classifier__learning_rate': [0.01, 0.1]\n",
    "}\n",
    "\n",
    "clf = GridSearchCV(pipeline, param_grid, cv=StratifiedKFold(3), scoring='roc_auc', verbose=2, n_jobs=-1)\n",
    "clf.fit(X_train_sub, y_train_sub)\n",
    "print(\"\\nBest parameters found:\", clf.best_params_)\n",
    "print(\"Best ROC-AUC score from cross-validation:\", clf.best_score_)"
   ]
  },
  {
   "cell_type": "markdown",
   "id": "5e773e8b-1439-4eae-9e14-865d54320797",
   "metadata": {},
   "source": [
    "### Training the Model"
   ]
  },
  {
   "cell_type": "code",
   "execution_count": 7,
   "id": "a14ffdc6-0192-4ff1-801d-3c996ce39a94",
   "metadata": {},
   "outputs": [
    {
     "name": "stdout",
     "output_type": "stream",
     "text": [
      "[LightGBM] [Info] Number of positive: 17377, number of negative: 197880\n",
      "[LightGBM] [Info] Auto-choosing col-wise multi-threading, the overhead of testing was 0.062775 seconds.\n",
      "You can set `force_col_wise=true` to remove the overhead.\n",
      "[LightGBM] [Info] Total Bins 21193\n",
      "[LightGBM] [Info] Number of data points in the train set: 215257, number of used features: 230\n",
      "[LightGBM] [Info] [binary:BoostFromScore]: pavg=0.080727 -> initscore=-2.432513\n",
      "[LightGBM] [Info] Start training from score -2.432513\n"
     ]
    }
   ],
   "source": [
    "best_params = clf.best_params_\n",
    "pipeline.set_params(**{k: v for k, v in best_params.items()})\n",
    "pipeline.fit(X_train, y_train)\n",
    "\n",
    "val_preprocessed = pipeline['preprocessor'].transform(X_val)\n",
    "val_predictions = pipeline['classifier'].predict_proba(val_preprocessed)[:, 1]\n",
    "val_predicted_labels = (val_predictions > 0.5).astype(int)\n"
   ]
  },
  {
   "cell_type": "markdown",
   "id": "fffa86ad-040e-403f-9d47-c516b7dce24d",
   "metadata": {},
   "source": [
    "### Evaluation of the Model"
   ]
  },
  {
   "cell_type": "code",
   "execution_count": 8,
   "id": "343f2260-8a95-438f-8006-36535cbdd03f",
   "metadata": {},
   "outputs": [
    {
     "name": "stdout",
     "output_type": "stream",
     "text": [
      "\n",
      "Validation Results:\n",
      "Accuracy: 0.7234\n",
      "Precision: 0.1760\n",
      "Recall: 0.6590\n",
      "F1 Score: 0.2778\n",
      "ROC AUC: 0.7638\n"
     ]
    }
   ],
   "source": [
    "metrics = {\n",
    "    'Accuracy': accuracy_score(y_val, val_predicted_labels),\n",
    "    'Precision': precision_score(y_val, val_predicted_labels),\n",
    "    'Recall': recall_score(y_val, val_predicted_labels),\n",
    "    'F1 Score': f1_score(y_val, val_predicted_labels),\n",
    "    'ROC AUC': roc_auc_score(y_val, val_predictions)\n",
    "}\n",
    "\n",
    "print(\"\\nValidation Results:\")\n",
    "for metric, value in metrics.items():\n",
    "    print(f\"{metric}: {value:.4f}\")"
   ]
  },
  {
   "cell_type": "code",
   "execution_count": 9,
   "id": "020cf610-83d0-4c5f-8faf-6638539d0973",
   "metadata": {},
   "outputs": [
    {
     "name": "stdout",
     "output_type": "stream",
     "text": [
      "Confusion Matrix for Validation Set:\n",
      "\t\tPredicted\n",
      "\t\tNegative\tPositive\n",
      "True Negative\t30913\t\t11490\n",
      "True Positive\t1270\t\t2454\n"
     ]
    }
   ],
   "source": [
    "cm = confusion_matrix(y_val, val_predicted_labels)\n",
    "\n",
    "class_labels = ['Negative', 'Positive']\n",
    "print(\"Confusion Matrix for Validation Set:\")\n",
    "print(\"\\t\\tPredicted\")\n",
    "print(\"\\t\\t\" + \"\\t\".join(class_labels))\n",
    "for i in range(len(class_labels)):\n",
    "    print(\"True \" + class_labels[i] + \"\\t\" + \"\\t\\t\".join(str(cm[i, j]) for j in range(len(class_labels))))"
   ]
  },
  {
   "cell_type": "code",
   "execution_count": 10,
   "id": "ef647de1-7e4d-4efc-a454-4ba636303b24",
   "metadata": {},
   "outputs": [
    {
     "data": {
      "image/png": "[encoded data removed]",
      "text/plain": [
       "<Figure size 640x480 with 1 Axes>"
      ]
     },
     "metadata": {},
     "output_type": "display_data"
    },
    {
     "data": {
      "text/plain": [
       "['../trained_models/full_pipeline.joblib']"
      ]
     },
     "execution_count": 10,
     "metadata": {},
     "output_type": "execute_result"
    }
   ],
   "source": [
    "fpr, tpr, _ = roc_curve(y_val, val_predictions)\n",
    "roc_auc = auc(fpr, tpr)\n",
    "RocCurveDisplay(fpr=fpr, tpr=tpr, roc_auc=roc_auc, estimator_name='LightGBM').plot()\n",
    "plt.title('ROC Curve for Validation Set')\n",
    "plt.show()\n",
    "\n",
    "dump(clf.best_estimator_, '../trained_models/lgbm_best_model.joblib')\n",
    "dump(preprocessor, '../trained_models/preprocessor.joblib')\n",
    "dump(clf, '../trained_models/full_pipeline.joblib')"
   ]
  },
  {
   "cell_type": "markdown",
   "id": "8b003114-463c-41da-9db1-daf6f9ed8ae2",
   "metadata": {},
   "source": [
    "## Conclusions"
   ]
  },
  {
   "cell_type": "markdown",
   "id": "9ec55dbb-ab8a-4d40-b259-c456ac14f726",
   "metadata": {},
   "source": [
    "The validation results for the loan default prediction model show an accuracy of 72.34% and a ROC AUC score of 76.38%, indicating a reasonable overall ability to differentiate between defaulters and non-defaulters. The model exhibits a high recall rate of 65.90%, which is critical for this context, as it means the model is effective in identifying a significant proportion of actual defaulted loans. This is beneficial for loan default prediction, where missing out on true defaults could be costlier than incorrectly predicting defaults.\n",
    "\n",
    "Despite the imbalance between precision and recall, reflected in the F1 score of 27.78%, the focus on reducing false negatives is appropriate for a loan default prediction model. This approach prioritizes the identification of as many actual defaults as possible, aligning with risk management objectives. Further model adjustments should continue to refine recall rates while seeking ways to modestly increase precision without significantly impacting the model's ability to detect defaults."
   ]
  },
  {
   "cell_type": "code",
   "execution_count": null,
   "id": "4c05e9ea-43ea-44c6-b601-f6ec62895d27",
   "metadata": {},
   "outputs": [],
   "source": []
  }
 ],
 "metadata": {
  "kernelspec": {
   "display_name": "Python 3 (ipykernel)",
   "language": "python",
   "name": "python3"
  },
  "language_info": {
   "codemirror_mode": {
    "name": "ipython",
    "version": 3
   },
   "file_extension": ".py",
   "mimetype": "text/x-python",
   "name": "python",
   "nbconvert_exporter": "python",
   "pygments_lexer": "ipython3",
   "version": "3.9.18"
  }
 },
 "nbformat": 4,
 "nbformat_minor": 5
}
