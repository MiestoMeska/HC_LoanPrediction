{
 "cells": [
  {
   "cell_type": "code",
   "execution_count": 3,
   "id": "bb8c8e2c-b75c-41aa-b7f1-72a37714752b",
   "metadata": {},
   "outputs": [],
   "source": [
    "import pandas as pd\n",
    "from joblib import load\n",
    "import numpy as np\n",
    "\n",
    "app_test = pd.read_csv('../data/app_test_extended.csv')\n",
    "\n",
    "selected_features = pd.read_csv('../data/selected_features.csv')\n",
    "selected_features_list = selected_features['Selected_Features'].tolist()\n",
    "\n",
    "X = app_test[selected_features_list].copy()\n",
    "\n",
    "X.replace([np.inf, -np.inf], np.nan, inplace=True)\n",
    "\n",
    "model = load('../trained_models/lgbm_best_model.joblib')\n",
    "\n",
    "test_probabilities = model.predict_proba(X)[:, 1]\n",
    "\n",
    "submission = pd.DataFrame({\n",
    "    'SK_ID_CURR': app_test['SK_ID_CURR'],\n",
    "    'TARGET': test_probabilities\n",
    "})\n",
    "\n",
    "submission_file_path = '../data/credit_default_submission.csv'\n",
    "submission.to_csv(submission_file_path, index=False)"
   ]
  },
  {
   "cell_type": "code",
   "execution_count": null,
   "id": "75baac7b-5b7f-4915-a9ae-b9eb1a85ba14",
   "metadata": {},
   "outputs": [],
   "source": []
  }
 ],
 "metadata": {
  "kernelspec": {
   "display_name": "Python 3 (ipykernel)",
   "language": "python",
   "name": "python3"
  },
  "language_info": {
   "codemirror_mode": {
    "name": "ipython",
    "version": 3
   },
   "file_extension": ".py",
   "mimetype": "text/x-python",
   "name": "python",
   "nbconvert_exporter": "python",
   "pygments_lexer": "ipython3",
   "version": "3.9.18"
  }
 },
 "nbformat": 4,
 "nbformat_minor": 5
}
