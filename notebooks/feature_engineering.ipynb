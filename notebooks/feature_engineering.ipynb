{
 "cells": [
  {
   "cell_type": "markdown",
   "id": "d6f765e9-7862-4e26-b661-43b5d308af5f",
   "metadata": {},
   "source": [
    "# Home Credit Default Risk"
   ]
  },
  {
   "cell_type": "markdown",
   "id": "935e4aa0-aa48-489b-9f41-9016e99550d3",
   "metadata": {},
   "source": [
    "## Feature Engineering"
   ]
  },
  {
   "cell_type": "markdown",
   "id": "92faa5fa-f7d5-4343-bc3d-91e6a8e8b71e",
   "metadata": {},
   "source": [
    "### Introduction"
   ]
  },
  {
   "cell_type": "markdown",
   "id": "3b508d44-ec4c-47ce-9f31-1f0420ca8338",
   "metadata": {},
   "source": [
    "In this project part, we're enhancing the predictive precision of machine learning models for loan default prediction by applying feature engineering techniques and integrating additional data sources into the application_train dataset.\r\n",
    "\r\n",
    "Supplementary datasets like bureau, bureau_balance, previous_application, POS_CASH_balance, credit_card_balance, and installments_payments provide crucial insights into applicants' credit history, behavioral patterns, and repayment behavior. By carefully engineering features and merging these datasets with application_train, we aim to improve the models' understanding of applicant risk profiles, leading to more accurate predictions of loan default probabilities."
   ]
  },
  {
   "cell_type": "markdown",
   "id": "a44c5ea1-9f43-4f1e-9714-b4de34b7b691",
   "metadata": {},
   "source": [
    "#### Importing Needed Libraries"
   ]
  },
  {
   "cell_type": "code",
   "execution_count": 1,
   "id": "7af87f11-2991-48a8-8d40-3f32cf7037ee",
   "metadata": {},
   "outputs": [],
   "source": [
    "import os\n",
    "import sys\n",
    "sys.path.append(\"../functions\")\n",
    "from functions import get_column_description\n",
    "\n",
    "import pandas as pd\n",
    "import numpy as np"
   ]
  },
  {
   "cell_type": "markdown",
   "id": "08c41d5f-985c-4f34-8593-0ceeb0e08e19",
   "metadata": {},
   "source": [
    "### Main Dataset"
   ]
  },
  {
   "cell_type": "markdown",
   "id": "224f8175-bc43-4ae7-8e82-2d0d23895e48",
   "metadata": {},
   "source": [
    "The application_train dataset contains loan application information identified by SK_ID_CURR. To incorporate additional data from related tables, a new DataFrame is created, new_features, to store engineered features. This DataFrame includes the SK_ID_CURR column from application_train as a reference for merging information from other tables."
   ]
  },
  {
   "cell_type": "code",
   "execution_count": 2,
   "id": "1e90c04c-8792-4c6c-acf0-88d04873f890",
   "metadata": {},
   "outputs": [],
   "source": [
    "app_train = pd.read_csv('../data/original/application_train.csv')\n",
    "app_test = pd.read_csv('../data/original/application_test.csv')"
   ]
  },
  {
   "cell_type": "code",
   "execution_count": 3,
   "id": "01bc921e-b4f3-4fa0-b990-57644dc1379f",
   "metadata": {},
   "outputs": [],
   "source": [
    "app_train_IDs = app_train[['SK_ID_CURR']].copy()\n",
    "app_test_IDs = app_train[['SK_ID_CURR']].copy()\n",
    "new_features = pd.DataFrame()\n",
    "new_features['SK_ID_CURR'] = pd.concat([app_train_IDs['SK_ID_CURR'], app_test_IDs['SK_ID_CURR']], ignore_index=True)"
   ]
  },
  {
   "cell_type": "markdown",
   "id": "530fdc21-3644-4531-96f2-d332126175ab",
   "metadata": {},
   "source": [
    "### Supplementary Datasets"
   ]
  },
  {
   "cell_type": "code",
   "execution_count": 4,
   "id": "cdf4cf52-2c89-4478-92e2-6727a5b9235a",
   "metadata": {},
   "outputs": [],
   "source": [
    "column_description = pd.read_csv(\"../data/original/HomeCredit_columns_description.csv\", encoding = \"latin\")"
   ]
  },
  {
   "cell_type": "markdown",
   "id": "d26f36a6-86f9-4a32-9d56-fde252d4677e",
   "metadata": {},
   "source": [
    "#### Bureau table"
   ]
  },
  {
   "cell_type": "markdown",
   "id": "1b923ecb-93c4-4082-be95-fdabb2483b23",
   "metadata": {},
   "source": [
    "This table contains application data from other loans taken by the client from other credit institutions.\n",
    "The table is linked to application_train and application_test tables via the SK_ID_CURR feature."
   ]
  },
  {
   "cell_type": "code",
   "execution_count": 5,
   "id": "b1e0309e-0a72-41d7-b6a0-bc365fe3e3d5",
   "metadata": {},
   "outputs": [],
   "source": [
    "bureau = pd.read_csv('../data/original/bureau.csv', encoding = \"latin\")"
   ]
  },
  {
   "cell_type": "code",
   "execution_count": 6,
   "id": "b66371cb-876c-40a7-a7c0-192c46851599",
   "metadata": {},
   "outputs": [
    {
     "name": "stdout",
     "output_type": "stream",
     "text": [
      "Shape of bureau dataset: (1716428, 17)\n"
     ]
    }
   ],
   "source": [
    "print(f\"Shape of bureau dataset: {bureau.shape}\")"
   ]
  },
  {
   "cell_type": "code",
   "execution_count": 7,
   "id": "8bb56f2e-be62-4169-8337-cdda38f75fe4",
   "metadata": {},
   "outputs": [
    {
     "name": "stdout",
     "output_type": "stream",
     "text": [
      "No duplicated rows found.\n"
     ]
    }
   ],
   "source": [
    "if bureau.duplicated().sum() == 0:\n",
    "    print(\"No duplicated rows found.\")\n",
    "else:\n",
    "    print(\"Duplicated rows found.\")"
   ]
  },
  {
   "cell_type": "code",
   "execution_count": 8,
   "id": "42a9f2ae-1a33-4372-8501-105458372467",
   "metadata": {},
   "outputs": [
    {
     "name": "stdout",
     "output_type": "stream",
     "text": [
      "SK_ID_CURR: ID of loan in our sample\n",
      "SK_BUREAU_ID: Recoded ID of previous Credit Bureau credit related to our loan (unique coding for each loan application)\n",
      "CREDIT_ACTIVE: Status of the Credit Bureau (CB) reported credits\n",
      "CREDIT_CURRENCY: Recoded currency of the Credit Bureau credit\n",
      "DAYS_CREDIT: How many days before current application did client apply for Credit Bureau credit\n",
      "CREDIT_DAY_OVERDUE: Number of days past due on CB credit at the time of application for related loan in our sample\n",
      "DAYS_CREDIT_ENDDATE: Remaining duration of CB credit (in days) at the time of application in Home Credit\n",
      "DAYS_ENDDATE_FACT: Days since CB credit ended at the time of application in Home Credit (only for closed credit)\n",
      "AMT_CREDIT_MAX_OVERDUE: Maximal amount overdue on the Credit Bureau credit so far (at application date of loan in our sample)\n",
      "CNT_CREDIT_PROLONG: How many times was the Credit Bureau credit prolonged\n",
      "AMT_CREDIT_SUM: Current credit amount for the Credit Bureau credit\n",
      "AMT_CREDIT_SUM_DEBT: Current debt on Credit Bureau credit\n",
      "AMT_CREDIT_SUM_LIMIT: Current credit limit of credit card reported in Credit Bureau\n",
      "AMT_CREDIT_SUM_OVERDUE: Current amount overdue on Credit Bureau credit\n",
      "CREDIT_TYPE: Type of Credit Bureau credit (Car, cash,...)\n",
      "DAYS_CREDIT_UPDATE: How many days before loan application did last information about the Credit Bureau credit come\n",
      "AMT_ANNUITY: Loan annuity\n",
      "\n"
     ]
    }
   ],
   "source": [
    "bureau = bureau.rename(columns={'SK_ID_BUREAU': 'SK_BUREAU_ID'}) #fixing name to match the description table\n",
    "column_names = bureau.columns.tolist()\n",
    "print(get_column_description(column_description, column_names))"
   ]
  },
  {
   "cell_type": "code",
   "execution_count": 9,
   "id": "2e4347c1-7f00-486d-9c10-e1b702fb76de",
   "metadata": {},
   "outputs": [
    {
     "data": {
      "text/html": [
       "<div>\n",
       "<style scoped>\n",
       "    .dataframe tbody tr th:only-of-type {\n",
       "        vertical-align: middle;\n",
       "    }\n",
       "\n",
       "    .dataframe tbody tr th {\n",
       "        vertical-align: top;\n",
       "    }\n",
       "\n",
       "    .dataframe thead th {\n",
       "        text-align: right;\n",
       "    }\n",
       "</style>\n",
       "<table border=\"1\" class=\"dataframe\">\n",
       "  <thead>\n",
       "    <tr style=\"text-align: right;\">\n",
       "      <th></th>\n",
       "      <th>SK_ID_CURR</th>\n",
       "      <th>SK_BUREAU_ID</th>\n",
       "      <th>CREDIT_ACTIVE</th>\n",
       "      <th>CREDIT_CURRENCY</th>\n",
       "      <th>DAYS_CREDIT</th>\n",
       "      <th>CREDIT_DAY_OVERDUE</th>\n",
       "      <th>DAYS_CREDIT_ENDDATE</th>\n",
       "      <th>DAYS_ENDDATE_FACT</th>\n",
       "      <th>AMT_CREDIT_MAX_OVERDUE</th>\n",
       "      <th>CNT_CREDIT_PROLONG</th>\n",
       "      <th>AMT_CREDIT_SUM</th>\n",
       "      <th>AMT_CREDIT_SUM_DEBT</th>\n",
       "      <th>AMT_CREDIT_SUM_LIMIT</th>\n",
       "      <th>AMT_CREDIT_SUM_OVERDUE</th>\n",
       "      <th>CREDIT_TYPE</th>\n",
       "      <th>DAYS_CREDIT_UPDATE</th>\n",
       "      <th>AMT_ANNUITY</th>\n",
       "    </tr>\n",
       "  </thead>\n",
       "  <tbody>\n",
       "    <tr>\n",
       "      <th>0</th>\n",
       "      <td>215354</td>\n",
       "      <td>5714462</td>\n",
       "      <td>Closed</td>\n",
       "      <td>currency 1</td>\n",
       "      <td>-497</td>\n",
       "      <td>0</td>\n",
       "      <td>-153.0</td>\n",
       "      <td>-153.0</td>\n",
       "      <td>NaN</td>\n",
       "      <td>0</td>\n",
       "      <td>91323.0</td>\n",
       "      <td>0.0</td>\n",
       "      <td>NaN</td>\n",
       "      <td>0.0</td>\n",
       "      <td>Consumer credit</td>\n",
       "      <td>-131</td>\n",
       "      <td>NaN</td>\n",
       "    </tr>\n",
       "    <tr>\n",
       "      <th>1</th>\n",
       "      <td>215354</td>\n",
       "      <td>5714463</td>\n",
       "      <td>Active</td>\n",
       "      <td>currency 1</td>\n",
       "      <td>-208</td>\n",
       "      <td>0</td>\n",
       "      <td>1075.0</td>\n",
       "      <td>NaN</td>\n",
       "      <td>NaN</td>\n",
       "      <td>0</td>\n",
       "      <td>225000.0</td>\n",
       "      <td>171342.0</td>\n",
       "      <td>NaN</td>\n",
       "      <td>0.0</td>\n",
       "      <td>Credit card</td>\n",
       "      <td>-20</td>\n",
       "      <td>NaN</td>\n",
       "    </tr>\n",
       "    <tr>\n",
       "      <th>2</th>\n",
       "      <td>215354</td>\n",
       "      <td>5714464</td>\n",
       "      <td>Active</td>\n",
       "      <td>currency 1</td>\n",
       "      <td>-203</td>\n",
       "      <td>0</td>\n",
       "      <td>528.0</td>\n",
       "      <td>NaN</td>\n",
       "      <td>NaN</td>\n",
       "      <td>0</td>\n",
       "      <td>464323.5</td>\n",
       "      <td>NaN</td>\n",
       "      <td>NaN</td>\n",
       "      <td>0.0</td>\n",
       "      <td>Consumer credit</td>\n",
       "      <td>-16</td>\n",
       "      <td>NaN</td>\n",
       "    </tr>\n",
       "    <tr>\n",
       "      <th>3</th>\n",
       "      <td>215354</td>\n",
       "      <td>5714465</td>\n",
       "      <td>Active</td>\n",
       "      <td>currency 1</td>\n",
       "      <td>-203</td>\n",
       "      <td>0</td>\n",
       "      <td>NaN</td>\n",
       "      <td>NaN</td>\n",
       "      <td>NaN</td>\n",
       "      <td>0</td>\n",
       "      <td>90000.0</td>\n",
       "      <td>NaN</td>\n",
       "      <td>NaN</td>\n",
       "      <td>0.0</td>\n",
       "      <td>Credit card</td>\n",
       "      <td>-16</td>\n",
       "      <td>NaN</td>\n",
       "    </tr>\n",
       "    <tr>\n",
       "      <th>4</th>\n",
       "      <td>215354</td>\n",
       "      <td>5714466</td>\n",
       "      <td>Active</td>\n",
       "      <td>currency 1</td>\n",
       "      <td>-629</td>\n",
       "      <td>0</td>\n",
       "      <td>1197.0</td>\n",
       "      <td>NaN</td>\n",
       "      <td>77674.5</td>\n",
       "      <td>0</td>\n",
       "      <td>2700000.0</td>\n",
       "      <td>NaN</td>\n",
       "      <td>NaN</td>\n",
       "      <td>0.0</td>\n",
       "      <td>Consumer credit</td>\n",
       "      <td>-21</td>\n",
       "      <td>NaN</td>\n",
       "    </tr>\n",
       "  </tbody>\n",
       "</table>\n",
       "</div>"
      ],
      "text/plain": [
       "   SK_ID_CURR  SK_BUREAU_ID CREDIT_ACTIVE CREDIT_CURRENCY  DAYS_CREDIT  \\\n",
       "0      215354       5714462        Closed      currency 1         -497   \n",
       "1      215354       5714463        Active      currency 1         -208   \n",
       "2      215354       5714464        Active      currency 1         -203   \n",
       "3      215354       5714465        Active      currency 1         -203   \n",
       "4      215354       5714466        Active      currency 1         -629   \n",
       "\n",
       "   CREDIT_DAY_OVERDUE  DAYS_CREDIT_ENDDATE  DAYS_ENDDATE_FACT  \\\n",
       "0                   0               -153.0             -153.0   \n",
       "1                   0               1075.0                NaN   \n",
       "2                   0                528.0                NaN   \n",
       "3                   0                  NaN                NaN   \n",
       "4                   0               1197.0                NaN   \n",
       "\n",
       "   AMT_CREDIT_MAX_OVERDUE  CNT_CREDIT_PROLONG  AMT_CREDIT_SUM  \\\n",
       "0                     NaN                   0         91323.0   \n",
       "1                     NaN                   0        225000.0   \n",
       "2                     NaN                   0        464323.5   \n",
       "3                     NaN                   0         90000.0   \n",
       "4                 77674.5                   0       2700000.0   \n",
       "\n",
       "   AMT_CREDIT_SUM_DEBT  AMT_CREDIT_SUM_LIMIT  AMT_CREDIT_SUM_OVERDUE  \\\n",
       "0                  0.0                   NaN                     0.0   \n",
       "1             171342.0                   NaN                     0.0   \n",
       "2                  NaN                   NaN                     0.0   \n",
       "3                  NaN                   NaN                     0.0   \n",
       "4                  NaN                   NaN                     0.0   \n",
       "\n",
       "       CREDIT_TYPE  DAYS_CREDIT_UPDATE  AMT_ANNUITY  \n",
       "0  Consumer credit                -131          NaN  \n",
       "1      Credit card                 -20          NaN  \n",
       "2  Consumer credit                 -16          NaN  \n",
       "3      Credit card                 -16          NaN  \n",
       "4  Consumer credit                 -21          NaN  "
      ]
     },
     "execution_count": 9,
     "metadata": {},
     "output_type": "execute_result"
    }
   ],
   "source": [
    "bureau.head()"
   ]
  },
  {
   "cell_type": "code",
   "execution_count": 10,
   "id": "dfc58cb0-0de8-42ed-8dd9-0e15ea1fa3b0",
   "metadata": {},
   "outputs": [
    {
     "name": "stdout",
     "output_type": "stream",
     "text": [
      "SK_ID_CURR\n",
      "120860    116\n",
      "169704     94\n",
      "318065     78\n",
      "251643     61\n",
      "425396     60\n",
      "Name: count, dtype: int64\n"
     ]
    }
   ],
   "source": [
    "sk_id_curr_counts = bureau['SK_ID_CURR'].value_counts()\n",
    "print(sk_id_curr_counts.head())"
   ]
  },
  {
   "cell_type": "markdown",
   "id": "dbe483e2-235b-4b6d-9c77-a7f3977ef7d6",
   "metadata": {},
   "source": [
    "The dataset reveals that some clients have multiple previous loans and both active and closed credits associated with them. To capture this information, aggregate features such as CNT_PREVIOUS_LOANS, CNT_ACTIVE, and CNT_CLOSED are calculated."
   ]
  },
  {
   "cell_type": "code",
   "execution_count": 11,
   "id": "a4ca6fb5-f3df-4d86-b67c-b6ae3b5663f8",
   "metadata": {},
   "outputs": [],
   "source": [
    "cnt_previous_loans = bureau.groupby('SK_ID_CURR')['SK_BUREAU_ID'].count().rename('CNT_PREVIOUS_LOANS')\n",
    "cnt_active = bureau[bureau['CREDIT_ACTIVE'] == 'Active'].groupby('SK_ID_CURR')['SK_BUREAU_ID'].count().rename('CNT_ACTIVE')\n",
    "cnt_closed = bureau[bureau['CREDIT_ACTIVE'] == 'Closed'].groupby('SK_ID_CURR')['SK_BUREAU_ID'].count().rename('CNT_CLOSED')"
   ]
  },
  {
   "cell_type": "code",
   "execution_count": 12,
   "id": "e9398dfa-d2f4-4fde-a11d-dd294256a2dc",
   "metadata": {},
   "outputs": [],
   "source": [
    "bureau_new_features = pd.concat([cnt_previous_loans, cnt_active, cnt_closed], axis=1).fillna(0)"
   ]
  },
  {
   "cell_type": "code",
   "execution_count": 13,
   "id": "8eb2d853-eeb6-4554-8fab-75f800d6b623",
   "metadata": {},
   "outputs": [],
   "source": [
    "avg_values = bureau.groupby('SK_ID_CURR').agg({\n",
    "    'DAYS_CREDIT': 'mean',\n",
    "    'CREDIT_DAY_OVERDUE': 'mean',\n",
    "    'DAYS_CREDIT_ENDDATE': 'mean',\n",
    "    'DAYS_ENDDATE_FACT': 'mean',\n",
    "    'AMT_CREDIT_MAX_OVERDUE': 'mean',\n",
    "    'CNT_CREDIT_PROLONG': 'mean',\n",
    "    'AMT_CREDIT_SUM': 'mean',\n",
    "    'AMT_CREDIT_SUM_DEBT': 'mean',\n",
    "    'AMT_CREDIT_SUM_LIMIT': 'mean',\n",
    "    'AMT_CREDIT_SUM_OVERDUE': 'mean',\n",
    "    'AMT_ANNUITY': 'mean'\n",
    "}).add_prefix('AVG_')\n",
    "credit_type_counts = pd.get_dummies(bureau['CREDIT_TYPE']).groupby(bureau['SK_ID_CURR']).sum()\n",
    "credit_type_counts.columns = credit_type_counts.columns.str.upper().str.replace(' ', '_')\n",
    "credit_currency_dummies = pd.get_dummies(bureau['CREDIT_CURRENCY']).groupby(bureau['SK_ID_CURR']).sum()\n",
    "credit_currency_dummies.columns = credit_currency_dummies.columns.str.upper().str.replace(' ', '_')\n",
    "bureau['DEBT_TO_CREDIT_RATIO'] = bureau['AMT_CREDIT_SUM_DEBT'] / bureau['AMT_CREDIT_SUM']\n",
    "bureau_new_features = pd.concat([\n",
    "    avg_values, \n",
    "    credit_type_counts, \n",
    "    credit_currency_dummies,  \n",
    "    bureau.groupby('SK_ID_CURR')['DEBT_TO_CREDIT_RATIO'].mean()\n",
    "], axis=1)"
   ]
  },
  {
   "cell_type": "markdown",
   "id": "25e242a4-aa31-4a41-949b-e32136dea65e",
   "metadata": {},
   "source": [
    "The engineered features derived from the bureau dataset offer valuable insights into clients' credit behavior. They include counts of previous loans, distinctions between active and closed credits, average credit metrics, distribution of credit types and currencies, and the debt-to-credit ratio. These features provide a comprehensive view of clients' borrowing history, credit utilization patterns, and indebtedness."
   ]
  },
  {
   "cell_type": "markdown",
   "id": "6479e2c3-4a2b-4d26-aefd-eccf4427ecb9",
   "metadata": {},
   "source": [
    "#### Bureau_balance table"
   ]
  },
  {
   "cell_type": "markdown",
   "id": "cf34d8a0-8f60-485e-9ebe-bcb5deedc834",
   "metadata": {},
   "source": [
    "Contains information about the monthly balances of previous loans that were reported to the Credit Bureau.\r\n",
    "The table is designed to to capture the payment history, providing behavioral data of the loaners.\r\n",
    "This table is linked to bureau table via the SK_ID_BUREAU feature."
   ]
  },
  {
   "cell_type": "code",
   "execution_count": 14,
   "id": "8eef3be2-1bbd-4b08-82f4-493e68bccb09",
   "metadata": {},
   "outputs": [],
   "source": [
    "bureau_balance = pd.read_csv('../data/original/bureau_balance.csv', encoding = \"latin\")"
   ]
  },
  {
   "cell_type": "code",
   "execution_count": 15,
   "id": "5d0ea824-9053-4309-8f92-ef95bc9b95e7",
   "metadata": {},
   "outputs": [
    {
     "name": "stdout",
     "output_type": "stream",
     "text": [
      "Shape of bureau_balance dataset: (27299925, 3)\n"
     ]
    }
   ],
   "source": [
    "print(f\"Shape of bureau_balance dataset: {bureau_balance.shape}\")"
   ]
  },
  {
   "cell_type": "code",
   "execution_count": 16,
   "id": "eadf2117-b17d-42ed-a0a3-e036bd3de939",
   "metadata": {},
   "outputs": [
    {
     "name": "stdout",
     "output_type": "stream",
     "text": [
      "No duplicated rows found.\n"
     ]
    }
   ],
   "source": [
    "if bureau_balance.duplicated().sum() == 0:\n",
    "    print(\"No duplicated rows found.\")\n",
    "else:\n",
    "    print(\"Duplicated rows found.\")"
   ]
  },
  {
   "cell_type": "code",
   "execution_count": 17,
   "id": "c391c958-0fed-45cd-95e5-63a181b7dc57",
   "metadata": {},
   "outputs": [
    {
     "name": "stdout",
     "output_type": "stream",
     "text": [
      "SK_BUREAU_ID: Recoded ID of previous Credit Bureau credit related to our loan (unique coding for each loan application)\n",
      "MONTHS_BALANCE: Month of balance relative to application date (-1 means the freshest balance date)\n",
      "STATUS: Status of Credit Bureau loan during the month (active, closed, DPD0-30,",
      " [C means closed, X means status unknown, 0 means no DPD, 1 means maximal did during month between 1-30, 2 means DPD 31-60,",
      " 5 means DPD 120+ or sold or written off ] )\n",
      "\n"
     ]
    }
   ],
   "source": [
    "bureau_balance = bureau_balance.rename(columns={'SK_ID_BUREAU': 'SK_BUREAU_ID'}) #fixing name to match the description table\n",
    "column_names = bureau_balance.columns.tolist()\n",
    "print(get_column_description(column_description, column_names))"
   ]
  },
  {
   "cell_type": "code",
   "execution_count": 18,
   "id": "291aca18-bffc-4b81-bbc8-1aac93c2c257",
   "metadata": {},
   "outputs": [
    {
     "data": {
      "text/html": [
       "<div>\n",
       "<style scoped>\n",
       "    .dataframe tbody tr th:only-of-type {\n",
       "        vertical-align: middle;\n",
       "    }\n",
       "\n",
       "    .dataframe tbody tr th {\n",
       "        vertical-align: top;\n",
       "    }\n",
       "\n",
       "    .dataframe thead th {\n",
       "        text-align: right;\n",
       "    }\n",
       "</style>\n",
       "<table border=\"1\" class=\"dataframe\">\n",
       "  <thead>\n",
       "    <tr style=\"text-align: right;\">\n",
       "      <th></th>\n",
       "      <th>SK_BUREAU_ID</th>\n",
       "      <th>MONTHS_BALANCE</th>\n",
       "      <th>STATUS</th>\n",
       "    </tr>\n",
       "  </thead>\n",
       "  <tbody>\n",
       "    <tr>\n",
       "      <th>0</th>\n",
       "      <td>5715448</td>\n",
       "      <td>0</td>\n",
       "      <td>C</td>\n",
       "    </tr>\n",
       "    <tr>\n",
       "      <th>1</th>\n",
       "      <td>5715448</td>\n",
       "      <td>-1</td>\n",
       "      <td>C</td>\n",
       "    </tr>\n",
       "    <tr>\n",
       "      <th>2</th>\n",
       "      <td>5715448</td>\n",
       "      <td>-2</td>\n",
       "      <td>C</td>\n",
       "    </tr>\n",
       "    <tr>\n",
       "      <th>3</th>\n",
       "      <td>5715448</td>\n",
       "      <td>-3</td>\n",
       "      <td>C</td>\n",
       "    </tr>\n",
       "    <tr>\n",
       "      <th>4</th>\n",
       "      <td>5715448</td>\n",
       "      <td>-4</td>\n",
       "      <td>C</td>\n",
       "    </tr>\n",
       "  </tbody>\n",
       "</table>\n",
       "</div>"
      ],
      "text/plain": [
       "   SK_BUREAU_ID  MONTHS_BALANCE STATUS\n",
       "0       5715448               0      C\n",
       "1       5715448              -1      C\n",
       "2       5715448              -2      C\n",
       "3       5715448              -3      C\n",
       "4       5715448              -4      C"
      ]
     },
     "execution_count": 18,
     "metadata": {},
     "output_type": "execute_result"
    }
   ],
   "source": [
    "bureau_balance.head()"
   ]
  },
  {
   "cell_type": "code",
   "execution_count": 19,
   "id": "30ca98cd-aefd-4dc4-bd00-9cae38cdcd0f",
   "metadata": {},
   "outputs": [],
   "source": [
    "bureau_merged = pd.merge(bureau_balance, bureau[['SK_BUREAU_ID', 'SK_ID_CURR']], on='SK_BUREAU_ID', how='left')\n",
    "bureau_merged['SK_ID_CURR'] = bureau_merged['SK_ID_CURR'].astype('Int64')"
   ]
  },
  {
   "cell_type": "code",
   "execution_count": 20,
   "id": "0113302a-d1e7-41c1-8fa9-5130597932de",
   "metadata": {},
   "outputs": [],
   "source": [
    "status_counts = bureau_merged.groupby(['SK_ID_CURR', 'STATUS']).size().unstack(fill_value=0)\n",
    "status_counts.columns = ['CNT_STATUS_' + col for col in status_counts.columns]\n",
    "total_unique_counts = bureau_merged.groupby('SK_ID_CURR')['SK_BUREAU_ID'].nunique()\n",
    "\n",
    "aggregated_data = pd.concat([total_unique_counts, status_counts], axis=1)\n",
    "aggregated_data.rename(columns={'SK_BUREAU_ID': 'CNT_SK_BUREAU_ID'}, inplace=True)\n"
   ]
  },
  {
   "cell_type": "code",
   "execution_count": 21,
   "id": "e538bfbd-9b9b-48ea-b58a-7bf6902a45e2",
   "metadata": {},
   "outputs": [
    {
     "name": "stdout",
     "output_type": "stream",
     "text": [
      "SK_ID_CURR        392250  348989\n",
      "CNT_SK_BUREAU_ID       1       3\n",
      "CNT_STATUS_0           9       9\n",
      "CNT_STATUS_1           0       0\n",
      "CNT_STATUS_2           0       0\n",
      "CNT_STATUS_3           0       0\n",
      "CNT_STATUS_4           0       0\n",
      "CNT_STATUS_5           0       0\n",
      "CNT_STATUS_C          33      11\n",
      "CNT_STATUS_X           1       7\n"
     ]
    }
   ],
   "source": [
    "print(aggregated_data.sample(2).T)"
   ]
  },
  {
   "cell_type": "code",
   "execution_count": 22,
   "id": "95e91739-a86a-41d8-a2be-b20f5e30d85e",
   "metadata": {},
   "outputs": [],
   "source": [
    "new_features = pd.merge(bureau_new_features, aggregated_data, on='SK_ID_CURR', how='left')"
   ]
  },
  {
   "cell_type": "markdown",
   "id": "78a13149-817e-40b0-9ddd-22add94f63bf",
   "metadata": {},
   "source": [
    "#### Previous_application table"
   ]
  },
  {
   "cell_type": "markdown",
   "id": "fcd7acd2-e3ac-41c0-8300-736dd80a0f4a",
   "metadata": {},
   "source": [
    "Contains information about previous loans at Home Credit by the same client. It includes details about previous loans and client information at the time of those loans.\n",
    "This table is linked to application_train and application_test tables via the SK_ID_CURR feature."
   ]
  },
  {
   "cell_type": "code",
   "execution_count": 23,
   "id": "310accbe-941d-4793-b31c-05df092fd77d",
   "metadata": {},
   "outputs": [],
   "source": [
    "previous_application = pd.read_csv('../data/original/previous_application.csv', encoding = \"latin\")"
   ]
  },
  {
   "cell_type": "code",
   "execution_count": 24,
   "id": "43b43915-4070-4f86-aa93-bf2f0e0ce453",
   "metadata": {},
   "outputs": [
    {
     "name": "stdout",
     "output_type": "stream",
     "text": [
      "Shape of previous_application dataset: (1670214, 37)\n"
     ]
    }
   ],
   "source": [
    "print(f\"Shape of previous_application dataset: {previous_application.shape}\")"
   ]
  },
  {
   "cell_type": "code",
   "execution_count": 25,
   "id": "af80bc34-274c-4312-8ee2-0f874d8d9b7c",
   "metadata": {},
   "outputs": [
    {
     "name": "stdout",
     "output_type": "stream",
     "text": [
      "No duplicated rows found.\n"
     ]
    }
   ],
   "source": [
    "if previous_application.duplicated().sum() == 0:\n",
    "    print(\"No duplicated rows found.\")\n",
    "else:\n",
    "    print(\"Duplicated rows found.\")"
   ]
  },
  {
   "cell_type": "code",
   "execution_count": 26,
   "id": "a598dcee-9dc9-4df0-8a5c-b3039821a281",
   "metadata": {},
   "outputs": [
    {
     "name": "stdout",
     "output_type": "stream",
     "text": [
      "SK_ID_CURR\n",
      "SK_ID_CURR: ID of loan in our sample\n",
      "\n",
      "NAME_CONTRACT_TYPE\n",
      "NAME_CONTRACT_TYPE: Identification if loan is cash or revolving\n",
      "\n",
      "AMT_ANNUITY\n",
      "AMT_ANNUITY: Loan annuity\n",
      "\n",
      "AMT_APPLICATION\n",
      "AMT_APPLICATION: For how much credit did client ask on the previous application\n",
      "\n",
      "AMT_CREDIT\n",
      "AMT_CREDIT: Credit amount of the loan\n",
      "\n",
      "AMT_DOWN_PAYMENT\n",
      "AMT_DOWN_PAYMENT: Down payment on the previous application\n",
      "\n",
      "AMT_GOODS_PRICE\n",
      "AMT_GOODS_PRICE: For consumer loans it is the price of the goods for which the loan is given\n",
      "\n",
      "WEEKDAY_APPR_PROCESS_START\n",
      "WEEKDAY_APPR_PROCESS_START: On which day of the week did the client apply for the loan\n",
      "\n",
      "HOUR_APPR_PROCESS_START\n",
      "HOUR_APPR_PROCESS_START: Approximately at what hour did the client apply for the loan\n",
      "\n",
      "FLAG_LAST_APPL_PER_CONTRACT\n",
      "FLAG_LAST_APPL_PER_CONTRACT: Flag if it was last application for the previous contract. Sometimes by mistake of client or our clerk there could be more applications for one single contract\n",
      "\n",
      "NFLAG_LAST_APPL_IN_DAY\n",
      "NFLAG_LAST_APPL_IN_DAY: Flag if the application was the last application per day of the client. Sometimes clients apply for more applications a day. Rarely it could also be error in our system that one application is in the database twice\n",
      "\n",
      "RATE_DOWN_PAYMENT\n",
      "RATE_DOWN_PAYMENT: Down payment rate normalized on previous credit\n",
      "\n",
      "RATE_INTEREST_PRIMARY\n",
      "RATE_INTEREST_PRIMARY: Interest rate normalized on previous credit\n",
      "\n",
      "RATE_INTEREST_PRIVILEGED\n",
      "RATE_INTEREST_PRIVILEGED: Interest rate normalized on previous credit\n",
      "\n",
      "NAME_CASH_LOAN_PURPOSE\n",
      "NAME_CASH_LOAN_PURPOSE: Purpose of the cash loan\n",
      "\n",
      "NAME_CONTRACT_STATUS\n",
      "NAME_CONTRACT_STATUS: Contract status during the month\n",
      "\n",
      "DAYS_DECISION\n",
      "DAYS_DECISION: Relative to current application when was the decision about previous application made\n",
      "\n",
      "NAME_PAYMENT_TYPE\n",
      "NAME_PAYMENT_TYPE: Payment method that client chose to pay for the previous application\n",
      "\n",
      "CODE_REJECT_REASON\n",
      "CODE_REJECT_REASON: Why was the previous application rejected\n",
      "\n",
      "NAME_TYPE_SUITE\n",
      "NAME_TYPE_SUITE: Who was accompanying client when he was applying for the loan\n",
      "\n",
      "NAME_CLIENT_TYPE\n",
      "NAME_CLIENT_TYPE: Was the client old or new client when applying for the previous application\n",
      "\n",
      "NAME_GOODS_CATEGORY\n",
      "NAME_GOODS_CATEGORY: What kind of goods did the client apply for in the previous application\n",
      "\n",
      "NAME_PORTFOLIO\n",
      "NAME_PORTFOLIO: Was the previous application for CASH, POS, CAR, ",
      "\n",
      "\n",
      "NAME_PRODUCT_TYPE\n",
      "NAME_PRODUCT_TYPE: Was the previous application x-sell o walk-in\n",
      "\n",
      "CHANNEL_TYPE\n",
      "CHANNEL_TYPE: Through which channel we acquired the client on the previous application\n",
      "\n",
      "SELLERPLACE_AREA\n",
      "SELLERPLACE_AREA: Selling area of seller place of the previous application\n",
      "\n",
      "NAME_SELLER_INDUSTRY\n",
      "NAME_SELLER_INDUSTRY: The industry of the seller\n",
      "\n",
      "CNT_PAYMENT\n",
      "CNT_PAYMENT: Term of previous credit at application of the previous application\n",
      "\n",
      "NAME_YIELD_GROUP\n",
      "NAME_YIELD_GROUP: Grouped interest rate into small medium and high of the previous application\n",
      "\n",
      "PRODUCT_COMBINATION\n",
      "PRODUCT_COMBINATION: Detailed product combination of the previous application\n",
      "\n",
      "DAYS_FIRST_DRAWING\n",
      "DAYS_FIRST_DRAWING: Relative to application date of current application when was the first disbursement of the previous application\n",
      "\n",
      "DAYS_FIRST_DUE\n",
      "DAYS_FIRST_DUE: Relative to application date of current application when was the first due supposed to be of the previous application\n",
      "\n",
      "DAYS_LAST_DUE_1ST_VERSION\n",
      "DAYS_LAST_DUE_1ST_VERSION: Relative to application date of current application when was the first due of the previous application\n",
      "\n",
      "DAYS_LAST_DUE\n",
      "DAYS_LAST_DUE: Relative to application date of current application when was the last due date of the previous application\n",
      "\n",
      "DAYS_TERMINATION\n",
      "DAYS_TERMINATION: Relative to application date of current application when was the expected termination of the previous application\n",
      "\n",
      "NFLAG_INSURED_ON_APPROVAL\n",
      "NFLAG_INSURED_ON_APPROVAL: Did the client requested insurance during the previous application\n",
      "\n"
     ]
    }
   ],
   "source": [
    "column_names = previous_application.columns.tolist()\n",
    "for i in column_names[1:]:\n",
    "    print(i)\n",
    "    print(get_column_description(column_description, i))"
   ]
  },
  {
   "cell_type": "code",
   "execution_count": 27,
   "id": "2d874991-3209-48cd-81cc-13f1914d213f",
   "metadata": {},
   "outputs": [
    {
     "name": "stdout",
     "output_type": "stream",
     "text": [
      "SK_ID_CURR                                    100001      100002\n",
      "SK_ID_PREV                                  1.000000       1.000\n",
      "AVG_AMT_ANNUITY                          3951.000000    9251.775\n",
      "AVG_AMT_APPLICATION                     24835.500000  179055.000\n",
      "AVG_AMT_DOWN_PAYMENT                     2520.000000       0.000\n",
      "AVG_AMT_GOODS_PRICE                     24835.500000  179055.000\n",
      "AVG_CNT_PAYMENT                             8.000000      24.000\n",
      "AVG_RATE_DOWN_PAYMENT                       0.104326       0.000\n",
      "AVG_RATE_INTEREST_PRIMARY                        NaN         NaN\n",
      "AVG_RATE_INTEREST_PRIVILEGED                     NaN         NaN\n",
      "AVG_DAYS_FIRST_DUE                      -1709.000000    -565.000\n",
      "AVG_DAYS_LAST_DUE_1ST_VERSION           -1499.000000     125.000\n",
      "AVG_DAYS_LAST_DUE                       -1619.000000     -25.000\n",
      "CNT_NAME_CONTRACT_TYPE_CASH_LOANS           0.000000       0.000\n",
      "CNT_NAME_CONTRACT_TYPE_CONSUMER_LOANS       1.000000       1.000\n",
      "CNT_NAME_CONTRACT_TYPE_REVOLVING_LOANS      0.000000       0.000\n",
      "CNT_NAME_CONTRACT_TYPE_XNA                  0.000000       0.000\n",
      "CNT_NAME_CONTRACT_STATUS_APPROVED           1.000000       1.000\n",
      "CNT_NAME_CONTRACT_STATUS_CANCELED           0.000000       0.000\n",
      "CNT_NAME_CONTRACT_STATUS_REFUSED            0.000000       0.000\n",
      "CNT_NAME_CONTRACT_STATUS_UNUSED_OFFER       0.000000       0.000\n",
      "CNT_NAME_CLIENT_TYPE_NEW                    0.000000       1.000\n",
      "CNT_NAME_CLIENT_TYPE_REFRESHED              1.000000       0.000\n",
      "CNT_NAME_CLIENT_TYPE_REPEATER               0.000000       0.000\n",
      "CNT_NAME_CLIENT_TYPE_XNA                    0.000000       0.000\n",
      "AVG_CNT_PAYMENT                             8.000000      24.000\n"
     ]
    }
   ],
   "source": [
    "total_unique_loans = previous_application.groupby('SK_ID_CURR')['SK_ID_PREV'].nunique()\n",
    "\n",
    "average_values = previous_application.groupby('SK_ID_CURR').agg({\n",
    "    'AMT_ANNUITY': 'mean',\n",
    "    'AMT_APPLICATION': 'mean',\n",
    "    'AMT_DOWN_PAYMENT': 'mean',\n",
    "    'AMT_GOODS_PRICE': 'mean',\n",
    "    'CNT_PAYMENT': 'mean',\n",
    "    'RATE_DOWN_PAYMENT': 'mean',\n",
    "    'RATE_INTEREST_PRIMARY': 'mean',\n",
    "    'RATE_INTEREST_PRIVILEGED': 'mean',\n",
    "    'DAYS_FIRST_DUE': 'mean',\n",
    "    'DAYS_LAST_DUE_1ST_VERSION': 'mean',\n",
    "    'DAYS_LAST_DUE': 'mean'\n",
    "}).add_prefix('AVG_')\n",
    "\n",
    "category_counts = pd.get_dummies(previous_application[['SK_ID_CURR', 'NAME_CONTRACT_TYPE', 'NAME_CONTRACT_STATUS', 'NAME_CLIENT_TYPE']], \n",
    "                                 columns=['NAME_CONTRACT_TYPE', 'NAME_CONTRACT_STATUS', 'NAME_CLIENT_TYPE']).groupby('SK_ID_CURR').sum()\n",
    "\n",
    "category_counts.columns = ['CNT_' + col.replace(' ', '_').upper() for col in category_counts.columns]\n",
    "\n",
    "avg_cnt_payment = previous_application.groupby('SK_ID_CURR')['CNT_PAYMENT'].mean().rename('AVG_CNT_PAYMENT')\n",
    "\n",
    "prev_agg_data = pd.concat([total_unique_loans, average_values, category_counts, avg_cnt_payment], axis=1)\n",
    "\n",
    "print(prev_agg_data.head(2).T)"
   ]
  },
  {
   "cell_type": "markdown",
   "id": "a89c6541-aade-4d0f-9b8f-99d8fda8b94d",
   "metadata": {},
   "source": [
    "#### Installments_payments table"
   ]
  },
  {
   "cell_type": "markdown",
   "id": "d6b2b08e-e675-48dc-94dd-d93f22c73b39",
   "metadata": {},
   "source": [
    "Contains repayment history for previously disbursed credits in Home Credit related to the loans in the sample.\r\n",
    "This table includes information about payments made and missed payments.\r\n",
    "Each row representts either a payment installment or a missed payment for a previous Home Credit credit.\r\n",
    "It is connected to previous_application through the SK_ID_PREV feature. Also it is linked to application_train and application_test tables via the SK_ID_CURR feature."
   ]
  },
  {
   "cell_type": "code",
   "execution_count": 28,
   "id": "d4c0a39c-335d-4488-a934-bd4aa88b952a",
   "metadata": {},
   "outputs": [],
   "source": [
    "installments_payments = pd.read_csv('../data/original/installments_payments.csv', encoding = \"latin\")"
   ]
  },
  {
   "cell_type": "code",
   "execution_count": 29,
   "id": "451a5e9c-33d6-4ca4-b743-f4f34b408bd2",
   "metadata": {},
   "outputs": [
    {
     "name": "stdout",
     "output_type": "stream",
     "text": [
      "Shape of installments_payments dataset: (13605401, 8)\n"
     ]
    }
   ],
   "source": [
    "print(f\"Shape of installments_payments dataset: {installments_payments.shape}\")"
   ]
  },
  {
   "cell_type": "code",
   "execution_count": 30,
   "id": "626737af-95ee-4b0b-bf4b-d9202e90ae19",
   "metadata": {},
   "outputs": [
    {
     "name": "stdout",
     "output_type": "stream",
     "text": [
      "No duplicated rows found.\n"
     ]
    }
   ],
   "source": [
    "if installments_payments.duplicated().sum() == 0:\n",
    "    print(\"No duplicated rows found.\")\n",
    "else:\n",
    "    print(\"Duplicated rows found.\")"
   ]
  },
  {
   "cell_type": "code",
   "execution_count": 31,
   "id": "82103319-3164-4709-8bf2-32d69b749c3c",
   "metadata": {},
   "outputs": [
    {
     "name": "stdout",
     "output_type": "stream",
     "text": [
      "SK_ID_CURR: ID of loan in our sample\n",
      "NUM_INSTALMENT_VERSION: Version of installment calendar (0 is for credit card) of previous credit. Change of installment version from month to month signifies that some parameter of payment calendar has changed\n",
      "NUM_INSTALMENT_NUMBER: On which installment we observe payment\n",
      "DAYS_INSTALMENT: When the installment of previous credit was supposed to be paid (relative to application date of current loan)\n",
      "DAYS_ENTRY_PAYMENT: When was the installments of previous credit paid actually (relative to application date of current loan)\n",
      "AMT_INSTALMENT: What was the prescribed installment amount of previous credit on this installment\n",
      "AMT_PAYMENT: What the client actually paid on previous credit on this installment\n",
      "\n"
     ]
    }
   ],
   "source": [
    "column_names = installments_payments.columns.tolist()\n",
    "print(get_column_description(column_description, column_names[1:]))"
   ]
  },
  {
   "cell_type": "code",
   "execution_count": 32,
   "id": "776f32c2-5dd2-4c5b-b3fa-861f709a3723",
   "metadata": {},
   "outputs": [
    {
     "data": {
      "text/html": [
       "<div>\n",
       "<style scoped>\n",
       "    .dataframe tbody tr th:only-of-type {\n",
       "        vertical-align: middle;\n",
       "    }\n",
       "\n",
       "    .dataframe tbody tr th {\n",
       "        vertical-align: top;\n",
       "    }\n",
       "\n",
       "    .dataframe thead th {\n",
       "        text-align: right;\n",
       "    }\n",
       "</style>\n",
       "<table border=\"1\" class=\"dataframe\">\n",
       "  <thead>\n",
       "    <tr style=\"text-align: right;\">\n",
       "      <th></th>\n",
       "      <th>13191795</th>\n",
       "      <th>13134651</th>\n",
       "      <th>4237727</th>\n",
       "    </tr>\n",
       "  </thead>\n",
       "  <tbody>\n",
       "    <tr>\n",
       "      <th>SK_ID_PREV</th>\n",
       "      <td>2459045.00</td>\n",
       "      <td>2525973.0</td>\n",
       "      <td>2564819.000</td>\n",
       "    </tr>\n",
       "    <tr>\n",
       "      <th>SK_ID_CURR</th>\n",
       "      <td>438945.00</td>\n",
       "      <td>410406.0</td>\n",
       "      <td>281271.000</td>\n",
       "    </tr>\n",
       "    <tr>\n",
       "      <th>NUM_INSTALMENT_VERSION</th>\n",
       "      <td>1.00</td>\n",
       "      <td>1.0</td>\n",
       "      <td>1.000</td>\n",
       "    </tr>\n",
       "    <tr>\n",
       "      <th>NUM_INSTALMENT_NUMBER</th>\n",
       "      <td>22.00</td>\n",
       "      <td>27.0</td>\n",
       "      <td>2.000</td>\n",
       "    </tr>\n",
       "    <tr>\n",
       "      <th>DAYS_INSTALMENT</th>\n",
       "      <td>-348.00</td>\n",
       "      <td>-733.0</td>\n",
       "      <td>-2656.000</td>\n",
       "    </tr>\n",
       "    <tr>\n",
       "      <th>DAYS_ENTRY_PAYMENT</th>\n",
       "      <td>-383.00</td>\n",
       "      <td>-764.0</td>\n",
       "      <td>-2656.000</td>\n",
       "    </tr>\n",
       "    <tr>\n",
       "      <th>AMT_INSTALMENT</th>\n",
       "      <td>45495.81</td>\n",
       "      <td>34341.3</td>\n",
       "      <td>3847.635</td>\n",
       "    </tr>\n",
       "    <tr>\n",
       "      <th>AMT_PAYMENT</th>\n",
       "      <td>45495.81</td>\n",
       "      <td>17701.2</td>\n",
       "      <td>3847.635</td>\n",
       "    </tr>\n",
       "  </tbody>\n",
       "</table>\n",
       "</div>"
      ],
      "text/plain": [
       "                          13191795   13134651     4237727 \n",
       "SK_ID_PREV              2459045.00  2525973.0  2564819.000\n",
       "SK_ID_CURR               438945.00   410406.0   281271.000\n",
       "NUM_INSTALMENT_VERSION        1.00        1.0        1.000\n",
       "NUM_INSTALMENT_NUMBER        22.00       27.0        2.000\n",
       "DAYS_INSTALMENT            -348.00     -733.0    -2656.000\n",
       "DAYS_ENTRY_PAYMENT         -383.00     -764.0    -2656.000\n",
       "AMT_INSTALMENT            45495.81    34341.3     3847.635\n",
       "AMT_PAYMENT               45495.81    17701.2     3847.635"
      ]
     },
     "execution_count": 32,
     "metadata": {},
     "output_type": "execute_result"
    }
   ],
   "source": [
    "installments_payments.sample(3).T"
   ]
  },
  {
   "cell_type": "code",
   "execution_count": 33,
   "id": "8efd792f-d3e1-4679-800a-093ed5e1b002",
   "metadata": {},
   "outputs": [],
   "source": [
    "installments_average_values = installments_payments.groupby('SK_ID_CURR').agg({\n",
    "    'NUM_INSTALMENT_VERSION': 'mean',\n",
    "    'NUM_INSTALMENT_NUMBER': 'mean',\n",
    "    'DAYS_INSTALMENT': 'mean',\n",
    "    'DAYS_ENTRY_PAYMENT': 'mean',\n",
    "    'AMT_INSTALMENT': 'mean',\n",
    "    'AMT_PAYMENT': 'mean'\n",
    "}).add_prefix('AVG_')\n",
    "\n",
    "installments_category_counts = pd.get_dummies(installments_payments['NUM_INSTALMENT_VERSION']).groupby(installments_payments['SK_ID_CURR']).sum()\n",
    "installments_category_counts.columns = ['CNT_NUM_INSTALMENT_VERSION_' + str(col) for col in installments_category_counts.columns]\n",
    "installments_aggregated_data = pd.concat([installments_average_values, installments_category_counts], axis=1)"
   ]
  },
  {
   "cell_type": "code",
   "execution_count": 34,
   "id": "a61dedd6-6a61-4173-b2bb-8bdeb1f8b6a4",
   "metadata": {},
   "outputs": [],
   "source": [
    "prev_agg_data = pd.merge(prev_agg_data, installments_aggregated_data, on='SK_ID_CURR', how='left')"
   ]
  },
  {
   "cell_type": "markdown",
   "id": "5125ac97-f1b9-4924-84f0-6d85c10653d2",
   "metadata": {},
   "source": [
    "#### POS_CASH_balance table"
   ]
  },
  {
   "cell_type": "markdown",
   "id": "16933f7c-4b9b-4e7c-a3de-bf8a3f0488a2",
   "metadata": {},
   "source": [
    "Contains monthly balance snapshots of previous point-of-sale (POS) and cash loans that the applicant had with Home Credit.\n",
    "It is connected to previous_application through the SK_ID_PREV feature. Also it is linked to application_train and application_test tables via the SK_ID_CURR feature."
   ]
  },
  {
   "cell_type": "code",
   "execution_count": 35,
   "id": "bcd691c2-fd03-4518-80b7-1c328da7db2c",
   "metadata": {},
   "outputs": [],
   "source": [
    "pos_cash_balance = pd.read_csv('../data/original/POS_CASH_balance.csv', encoding = \"latin\")"
   ]
  },
  {
   "cell_type": "code",
   "execution_count": 36,
   "id": "d2f26999-b198-4bb2-90e8-23b4cfdda9d9",
   "metadata": {},
   "outputs": [
    {
     "name": "stdout",
     "output_type": "stream",
     "text": [
      "Shape of pos_cash_balance dataset: (10001358, 8)\n"
     ]
    }
   ],
   "source": [
    "print(f\"Shape of pos_cash_balance dataset: {pos_cash_balance.shape}\")"
   ]
  },
  {
   "cell_type": "code",
   "execution_count": 37,
   "id": "7db1e71c-7007-450d-9291-a3f50ca0b947",
   "metadata": {},
   "outputs": [
    {
     "name": "stdout",
     "output_type": "stream",
     "text": [
      "No duplicated rows found.\n"
     ]
    }
   ],
   "source": [
    "if pos_cash_balance.duplicated().sum() == 0:\n",
    "    print(\"No duplicated rows found.\")\n",
    "else:\n",
    "    print(\"Duplicated rows found.\")"
   ]
  },
  {
   "cell_type": "code",
   "execution_count": 38,
   "id": "2a05dc9e-d19b-46a6-87f1-e4111b6aabd3",
   "metadata": {},
   "outputs": [
    {
     "name": "stdout",
     "output_type": "stream",
     "text": [
      "SK_ID_CURR: ID of loan in our sample\n",
      "MONTHS_BALANCE: Month of balance relative to application date (-1 means the freshest balance date)\n",
      "CNT_INSTALMENT: Term of previous credit (can change over time)\n",
      "CNT_INSTALMENT_FUTURE: Installments left to pay on the previous credit\n",
      "NAME_CONTRACT_STATUS: Contract status during the month\n",
      "SK_DPD: DPD (days past due) during the month of previous credit\n",
      "SK_DPD_DEF: DPD during the month with tolerance (debts with low loan amounts are ignored) of the previous credit\n",
      "\n"
     ]
    }
   ],
   "source": [
    "column_names = pos_cash_balance.columns.tolist()\n",
    "print(get_column_description(column_description, column_names[1:]))"
   ]
  },
  {
   "cell_type": "code",
   "execution_count": 39,
   "id": "6d792a55-20b9-4561-9190-fee94f1a34b7",
   "metadata": {},
   "outputs": [
    {
     "data": {
      "text/html": [
       "<div>\n",
       "<style scoped>\n",
       "    .dataframe tbody tr th:only-of-type {\n",
       "        vertical-align: middle;\n",
       "    }\n",
       "\n",
       "    .dataframe tbody tr th {\n",
       "        vertical-align: top;\n",
       "    }\n",
       "\n",
       "    .dataframe thead th {\n",
       "        text-align: right;\n",
       "    }\n",
       "</style>\n",
       "<table border=\"1\" class=\"dataframe\">\n",
       "  <thead>\n",
       "    <tr style=\"text-align: right;\">\n",
       "      <th></th>\n",
       "      <th>3119391</th>\n",
       "    </tr>\n",
       "  </thead>\n",
       "  <tbody>\n",
       "    <tr>\n",
       "      <th>SK_ID_PREV</th>\n",
       "      <td>1670663</td>\n",
       "    </tr>\n",
       "    <tr>\n",
       "      <th>SK_ID_CURR</th>\n",
       "      <td>194628</td>\n",
       "    </tr>\n",
       "    <tr>\n",
       "      <th>MONTHS_BALANCE</th>\n",
       "      <td>-64</td>\n",
       "    </tr>\n",
       "    <tr>\n",
       "      <th>CNT_INSTALMENT</th>\n",
       "      <td>9.0</td>\n",
       "    </tr>\n",
       "    <tr>\n",
       "      <th>CNT_INSTALMENT_FUTURE</th>\n",
       "      <td>3.0</td>\n",
       "    </tr>\n",
       "    <tr>\n",
       "      <th>NAME_CONTRACT_STATUS</th>\n",
       "      <td>Active</td>\n",
       "    </tr>\n",
       "    <tr>\n",
       "      <th>SK_DPD</th>\n",
       "      <td>0</td>\n",
       "    </tr>\n",
       "    <tr>\n",
       "      <th>SK_DPD_DEF</th>\n",
       "      <td>0</td>\n",
       "    </tr>\n",
       "  </tbody>\n",
       "</table>\n",
       "</div>"
      ],
      "text/plain": [
       "                       3119391\n",
       "SK_ID_PREV             1670663\n",
       "SK_ID_CURR              194628\n",
       "MONTHS_BALANCE             -64\n",
       "CNT_INSTALMENT             9.0\n",
       "CNT_INSTALMENT_FUTURE      3.0\n",
       "NAME_CONTRACT_STATUS    Active\n",
       "SK_DPD                       0\n",
       "SK_DPD_DEF                   0"
      ]
     },
     "execution_count": 39,
     "metadata": {},
     "output_type": "execute_result"
    }
   ],
   "source": [
    "pos_cash_balance.sample().T"
   ]
  },
  {
   "cell_type": "code",
   "execution_count": 40,
   "id": "7576a396-873c-4036-bb39-1e9b2f6b688c",
   "metadata": {},
   "outputs": [],
   "source": [
    "pos_cash_average_values = pos_cash_balance.groupby('SK_ID_CURR').agg({\n",
    "    'MONTHS_BALANCE': 'mean',\n",
    "    'CNT_INSTALMENT': 'mean',\n",
    "    'CNT_INSTALMENT_FUTURE': 'mean',\n",
    "    'SK_DPD': 'mean',\n",
    "    'SK_DPD_DEF': 'mean'\n",
    "}).add_prefix('AVG_')\n",
    "\n",
    "contract_status_dummies = pd.get_dummies(pos_cash_balance['NAME_CONTRACT_STATUS']).groupby(pos_cash_balance['SK_ID_CURR']).sum()\n",
    "contract_status_dummies.columns = ['CNT_NAME_CONTRACT_STATUS_' + col.replace(' ', '_').upper() for col in contract_status_dummies.columns]\n",
    "\n",
    "pos_cash_aggregated_data = pd.concat([pos_cash_average_values, contract_status_dummies], axis=1)"
   ]
  },
  {
   "cell_type": "code",
   "execution_count": 41,
   "id": "51762253-ec8a-44f2-85e5-5e90710e3d86",
   "metadata": {},
   "outputs": [],
   "source": [
    "prev_agg_data = pd.merge(prev_agg_data, pos_cash_aggregated_data, on='SK_ID_CURR', how='left')"
   ]
  },
  {
   "cell_type": "markdown",
   "id": "4843dc42-d493-4707-af19-0a492ff8ae99",
   "metadata": {},
   "source": [
    "#### Credit_card_balance table"
   ]
  },
  {
   "cell_type": "markdown",
   "id": "41920c31-62af-4b4f-afb4-80c941a440fc",
   "metadata": {},
   "source": [
    "Contains monthly balance snapshots of previous credit cards that the applicant had with Home Credit.\n",
    "This table gives insights into the payment history and balance of previous credit card accounts.\n",
    "It is connected to previous_application through the SK_ID_PREV feature. Also it is linked to application_train and application_test tables via the SK_ID_CURR feature."
   ]
  },
  {
   "cell_type": "code",
   "execution_count": 42,
   "id": "3bd4193d-f347-4cea-bfc3-56ad0ca3b863",
   "metadata": {},
   "outputs": [],
   "source": [
    "credit_card_balance = pd.read_csv('../data/original/credit_card_balance.csv', encoding = \"latin\")"
   ]
  },
  {
   "cell_type": "code",
   "execution_count": 43,
   "id": "edfea094-7ba1-4ea1-93cb-67ed200b3336",
   "metadata": {},
   "outputs": [
    {
     "name": "stdout",
     "output_type": "stream",
     "text": [
      "Shape of credit_card_balance dataset: (3840312, 23)\n"
     ]
    }
   ],
   "source": [
    "print(f\"Shape of credit_card_balance dataset: {credit_card_balance.shape}\")"
   ]
  },
  {
   "cell_type": "code",
   "execution_count": 44,
   "id": "7447285c-0589-447d-adeb-01100524aeef",
   "metadata": {},
   "outputs": [
    {
     "name": "stdout",
     "output_type": "stream",
     "text": [
      "No duplicated rows found.\n"
     ]
    }
   ],
   "source": [
    "if credit_card_balance.duplicated().sum() == 0:\n",
    "    print(\"No duplicated rows found.\")\n",
    "else:\n",
    "    print(\"Duplicated rows found.\")"
   ]
  },
  {
   "cell_type": "code",
   "execution_count": 45,
   "id": "347d963d-fbc2-4ed8-a081-b02d1be04fbf",
   "metadata": {},
   "outputs": [
    {
     "name": "stdout",
     "output_type": "stream",
     "text": [
      "SK_ID_CURR: ID of loan in our sample\n",
      "MONTHS_BALANCE: Month of balance relative to application date (-1 means the freshest balance date)\n",
      "AMT_BALANCE: Balance during the month of previous credit\n",
      "AMT_CREDIT_LIMIT_ACTUAL: Credit card limit during the month of the previous credit\n",
      "AMT_DRAWINGS_ATM_CURRENT: Amount drawing at ATM during the month of the previous credit\n",
      "AMT_DRAWINGS_CURRENT: Amount drawing during the month of the previous credit\n",
      "AMT_DRAWINGS_OTHER_CURRENT: Amount of other drawings during the month of the previous credit\n",
      "AMT_DRAWINGS_POS_CURRENT: Amount drawing or buying goods during the month of the previous credit\n",
      "AMT_INST_MIN_REGULARITY: Minimal installment for this month of the previous credit\n",
      "AMT_PAYMENT_CURRENT: How much did the client pay during the month on the previous credit\n",
      "AMT_PAYMENT_TOTAL_CURRENT: How much did the client pay during the month in total on the previous credit\n",
      "AMT_RECEIVABLE_PRINCIPAL: Amount receivable for principal on the previous credit\n",
      "AMT_RECIVABLE: Amount receivable on the previous credit\n",
      "AMT_TOTAL_RECEIVABLE: Total amount receivable on the previous credit\n",
      "CNT_DRAWINGS_ATM_CURRENT: Number of drawings at ATM during this month on the previous credit\n",
      "CNT_DRAWINGS_CURRENT: Number of drawings during this month on the previous credit\n",
      "CNT_DRAWINGS_OTHER_CURRENT: Number of other drawings during this month on the previous credit\n",
      "CNT_DRAWINGS_POS_CURRENT: Number of drawings for goods during this month on the previous credit\n",
      "CNT_INSTALMENT_MATURE_CUM: Number of paid installments on the previous credit\n",
      "NAME_CONTRACT_STATUS: Contract status during the month\n",
      "SK_DPD: DPD (days past due) during the month of previous credit\n",
      "SK_DPD_DEF: DPD during the month with tolerance (debts with low loan amounts are ignored) of the previous credit\n",
      "\n"
     ]
    }
   ],
   "source": [
    "column_names = credit_card_balance.columns.tolist()\n",
    "print(get_column_description(column_description, column_names[1:]))"
   ]
  },
  {
   "cell_type": "code",
   "execution_count": 46,
   "id": "7c5f98a4-582a-42c1-ab4a-cd5381e0cad1",
   "metadata": {},
   "outputs": [],
   "source": [
    "credit_card_average_values = credit_card_balance.groupby('SK_ID_CURR').agg({\n",
    "    'MONTHS_BALANCE': 'mean',\n",
    "    'AMT_BALANCE': 'mean',\n",
    "    'AMT_CREDIT_LIMIT_ACTUAL': 'mean',\n",
    "    'AMT_DRAWINGS_ATM_CURRENT': 'mean',\n",
    "    'AMT_DRAWINGS_CURRENT': 'mean',\n",
    "    'AMT_DRAWINGS_OTHER_CURRENT': 'mean',\n",
    "    'AMT_DRAWINGS_POS_CURRENT': 'mean',\n",
    "    'AMT_INST_MIN_REGULARITY': 'mean',\n",
    "    'AMT_PAYMENT_CURRENT': 'mean',\n",
    "    'AMT_PAYMENT_TOTAL_CURRENT': 'mean',\n",
    "    'AMT_RECEIVABLE_PRINCIPAL': 'mean',\n",
    "    'AMT_RECIVABLE': 'mean',\n",
    "    'AMT_TOTAL_RECEIVABLE': 'mean',\n",
    "    'CNT_DRAWINGS_ATM_CURRENT': 'mean',\n",
    "    'CNT_DRAWINGS_CURRENT': 'mean',\n",
    "    'CNT_DRAWINGS_OTHER_CURRENT': 'mean',\n",
    "    'CNT_DRAWINGS_POS_CURRENT': 'mean',\n",
    "    'CNT_INSTALMENT_MATURE_CUM': 'mean',\n",
    "    'SK_DPD': 'mean',\n",
    "    'SK_DPD_DEF': 'mean'\n",
    "}).add_prefix('AVG_')\n",
    "\n",
    "contract_status_dummies = pd.get_dummies(credit_card_balance['NAME_CONTRACT_STATUS']).groupby(credit_card_balance['SK_ID_CURR']).sum()\n",
    "contract_status_dummies.columns = ['CNT_NAME_CONTRACT_STATUS_CARD' + col.replace(' ', '_').upper() for col in contract_status_dummies.columns]\n",
    "credit_card_aggregated_data = pd.concat([credit_card_average_values, contract_status_dummies], axis=1)\n",
    "\n"
   ]
  },
  {
   "cell_type": "code",
   "execution_count": 47,
   "id": "b2cd93df-0a43-41fb-8d11-158d24621c0d",
   "metadata": {},
   "outputs": [],
   "source": [
    "prev_agg_data = pd.merge(prev_agg_data, credit_card_aggregated_data, on='SK_ID_CURR', how='left')"
   ]
  },
  {
   "cell_type": "code",
   "execution_count": 48,
   "id": "1d1ff064-0708-4ff4-8aa8-cf3e25bef47d",
   "metadata": {},
   "outputs": [],
   "source": [
    "new_features = pd.merge(new_features, prev_agg_data, on='SK_ID_CURR', how='left')"
   ]
  },
  {
   "cell_type": "markdown",
   "id": "e89a1195-61f1-4e70-826d-44c59bcd7708",
   "metadata": {},
   "source": [
    "### Merging the Dataset"
   ]
  },
  {
   "cell_type": "code",
   "execution_count": 50,
   "id": "e1f47136-e208-4b75-ad39-b460df9dfe64",
   "metadata": {},
   "outputs": [],
   "source": [
    "app_train_extended = pd.merge(app_train, new_features, on='SK_ID_CURR', how='left')\n",
    "file_path = '../data/app_train_extended.csv'\n",
    "app_train_extended.to_csv(file_path, index=False)\n",
    "\n",
    "app_test_extended = pd.merge(app_test, new_features, on='SK_ID_CURR', how='left')\n",
    "file_path = '../data/app_test_extended.csv'\n",
    "app_test_extended.to_csv(file_path, index=False)"
   ]
  },
  {
   "cell_type": "code",
   "execution_count": null,
   "id": "9b70de00-89a9-405c-9c19-87d70c9626f3",
   "metadata": {},
   "outputs": [],
   "source": []
  }
 ],
 "metadata": {
  "kernelspec": {
   "display_name": "Python 3 (ipykernel)",
   "language": "python",
   "name": "python3"
  },
  "language_info": {
   "codemirror_mode": {
    "name": "ipython",
    "version": 3
   },
   "file_extension": ".py",
   "mimetype": "text/x-python",
   "name": "python",
   "nbconvert_exporter": "python",
   "pygments_lexer": "ipython3",
   "version": "3.9.18"
  }
 },
 "nbformat": 4,
 "nbformat_minor": 5
}
